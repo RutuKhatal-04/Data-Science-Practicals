{
 "cells": [
  {
   "cell_type": "markdown",
   "id": "3295834a",
   "metadata": {},
   "source": [
    "# 7) Text Analytics\n",
    "1. Extract Sample document and apply following document preprocessing methods:\n",
    "Tokenization, POS Tagging, stop words removal, Stemming and Lemmatization.\n",
    "2. Create representation of documents by calculating Term Frequency and Inverse\n",
    "DocumentFrequency."
   ]
  },
  {
   "cell_type": "markdown",
   "id": "fad1c845",
   "metadata": {},
   "source": [
    "# 1.Tokenization"
   ]
  },
  {
   "cell_type": "code",
   "execution_count": 4,
   "id": "b8380ea4",
   "metadata": {},
   "outputs": [
    {
     "name": "stdout",
     "output_type": "stream",
     "text": [
      "['Every', 'one', 'is', 'same', 'in', 'sky', ',', 'so', 'make', 'your', 'wigns', 'strong', 'and', 'take', 'a', 'flight', '.']\n"
     ]
    },
    {
     "name": "stderr",
     "output_type": "stream",
     "text": [
      "[nltk_data] Downloading package punkt to\n",
      "[nltk_data]     C:\\Users\\hp\\AppData\\Roaming\\nltk_data...\n",
      "[nltk_data]   Package punkt is already up-to-date!\n"
     ]
    }
   ],
   "source": [
    "import nltk\n",
    "nltk.download('punkt')\n",
    "text=\"Every one is same in sky,so make your wigns strong and take a flight.\"\n",
    "words = nltk.word_tokenize(text)\n",
    "print(words)\n"
   ]
  },
  {
   "cell_type": "markdown",
   "id": "af438e7d",
   "metadata": {},
   "source": [
    "# 2.POS Tagging"
   ]
  },
  {
   "cell_type": "code",
   "execution_count": 9,
   "id": "25992896",
   "metadata": {},
   "outputs": [
    {
     "name": "stdout",
     "output_type": "stream",
     "text": [
      "[('Every', 'DT'), ('one', 'CD'), ('is', 'VBZ'), ('same', 'JJ'), ('in', 'IN'), ('sky', 'NN'), (',', ','), ('so', 'RB'), ('make', 'VB'), ('your', 'PRP$'), ('wigns', 'NNS'), ('strong', 'JJ'), ('and', 'CC'), ('take', 'VB'), ('a', 'DT'), ('flight', 'NN'), ('.', '.')]\n"
     ]
    },
    {
     "name": "stderr",
     "output_type": "stream",
     "text": [
      "[nltk_data] Downloading package averaged_perceptron_tagger to\n",
      "[nltk_data]     C:\\Users\\hp\\AppData\\Roaming\\nltk_data...\n",
      "[nltk_data]   Package averaged_perceptron_tagger is already up-to-\n",
      "[nltk_data]       date!\n"
     ]
    }
   ],
   "source": [
    "from nltk.tokenize import word_tokenize\n",
    "nltk.download('averaged_perceptron_tagger')\n",
    "pos_tags = nltk.pos_tag(words)\n",
    "print(pos_tags)\n"
   ]
  },
  {
   "cell_type": "markdown",
   "id": "11683244",
   "metadata": {},
   "source": [
    "# 3.stop words removal"
   ]
  },
  {
   "cell_type": "code",
   "execution_count": 10,
   "id": "d1de0ec2",
   "metadata": {},
   "outputs": [
    {
     "name": "stderr",
     "output_type": "stream",
     "text": [
      "[nltk_data] Downloading package stopwords to\n",
      "[nltk_data]     C:\\Users\\hp\\AppData\\Roaming\\nltk_data...\n"
     ]
    },
    {
     "name": "stdout",
     "output_type": "stream",
     "text": [
      "Every one sky , make wigns strong take flight .\n"
     ]
    },
    {
     "name": "stderr",
     "output_type": "stream",
     "text": [
      "[nltk_data]   Unzipping corpora\\stopwords.zip.\n"
     ]
    }
   ],
   "source": [
    "from nltk.corpus import stopwords\n",
    "nltk.download('stopwords')\n",
    "stop_words = set(stopwords.words('english'))\n",
    "filtered_tokens = [word for word in words if word.lower() not in stop_words]\n",
    "filtered_text = ' '.join(filtered_tokens)\n",
    "print(filtered_text)\n"
   ]
  },
  {
   "cell_type": "markdown",
   "id": "454e003d",
   "metadata": {},
   "source": [
    "# 4.Stemming and Lemmatization"
   ]
  },
  {
   "cell_type": "code",
   "execution_count": 12,
   "id": "50cf695c",
   "metadata": {},
   "outputs": [
    {
     "name": "stderr",
     "output_type": "stream",
     "text": [
      "[nltk_data] Downloading package wordnet to\n",
      "[nltk_data]     C:\\Users\\hp\\AppData\\Roaming\\nltk_data...\n"
     ]
    },
    {
     "name": "stdout",
     "output_type": "stream",
     "text": [
      "Stemming words: ['everi', 'one', 'is', 'same', 'in', 'sky', ',', 'so', 'make', 'your', 'wign', 'strong', 'and', 'take', 'a', 'flight', '.']\n",
      "Lemmatizing words: ['Every', 'one', 'is', 'same', 'in', 'sky', ',', 'so', 'make', 'your', 'wigns', 'strong', 'and', 'take', 'a', 'flight', '.']\n"
     ]
    }
   ],
   "source": [
    "from nltk.stem import PorterStemmer, WordNetLemmatizer\n",
    "nltk.download('wordnet')\n",
    "\n",
    "stemmer = PorterStemmer()     # Stemming\n",
    "stemmed_words = [stemmer.stem(word) for word in words]\n",
    "\n",
    "lemmatizer = WordNetLemmatizer()  # Lemmatization\n",
    "lemmatized_words = [lemmatizer.lemmatize(word) for word in words]\n",
    "\n",
    "print(\"Stemming words:\", stemmed_words)  #output\n",
    "print(\"Lemmatizing words:\", lemmatized_words)\n"
   ]
  },
  {
   "cell_type": "markdown",
   "id": "626e1958",
   "metadata": {},
   "source": [
    "# Create representation of documents by calculating Term Frequency and Inverse DocumentFrequency."
   ]
  },
  {
   "cell_type": "code",
   "execution_count": 17,
   "id": "3512afb8",
   "metadata": {},
   "outputs": [
    {
     "name": "stdout",
     "output_type": "stream",
     "text": [
      "Document 1:\n",
      "document: 0.47\n",
      "first: 0.58\n",
      "is: 0.38\n",
      "the: 0.38\n",
      "this: 0.38\n",
      "\n",
      "Document 2:\n",
      "document: 0.69\n",
      "is: 0.28\n",
      "second: 0.54\n",
      "the: 0.28\n",
      "this: 0.28\n",
      "\n",
      "Document 3:\n",
      "and: 0.51\n",
      "is: 0.27\n",
      "one: 0.51\n",
      "the: 0.27\n",
      "third: 0.51\n",
      "this: 0.27\n",
      "\n",
      "Document 4:\n",
      "document: 0.47\n",
      "first: 0.58\n",
      "is: 0.38\n",
      "the: 0.38\n",
      "this: 0.38\n",
      "\n"
     ]
    }
   ],
   "source": [
    "from sklearn.feature_extraction.text import TfidfVectorizer\n",
    "documents = [\n",
    "    \"This is the first document.\",\n",
    "    \"This document is the second document.\",\n",
    "    \"And this is the third one.\",\n",
    "    \"Is this the first document?\",\n",
    "]\n",
    "tfidf_vectorizer = TfidfVectorizer()\n",
    "tfidf_matrix = tfidf_vectorizer.fit_transform(documents)\n",
    "feature_names = tfidf_vectorizer.get_feature_names_out()\n",
    "dense_tfidf_matrix = tfidf_matrix.todense()\n",
    "for i in range(len(documents)):\n",
    "    print(f\"Document {i + 1}:\")\n",
    "    for j, word in enumerate(feature_names):\n",
    "        tfidf_score = dense_tfidf_matrix[i, j]\n",
    "        if tfidf_score > 0:\n",
    "            print(f\"{word}: {tfidf_score:.2f}\")\n",
    "    print()\n"
   ]
  },
  {
   "cell_type": "code",
   "execution_count": 16,
   "id": "8c0afe8a",
   "metadata": {},
   "outputs": [
    {
     "name": "stdout",
     "output_type": "stream",
     "text": [
      "[[0.         0.46979139 0.58028582 0.38408524 0.         0.\n",
      "  0.38408524 0.         0.38408524]\n",
      " [0.         0.6876236  0.         0.28108867 0.         0.53864762\n",
      "  0.28108867 0.         0.28108867]\n",
      " [0.51184851 0.         0.         0.26710379 0.51184851 0.\n",
      "  0.26710379 0.51184851 0.26710379]\n",
      " [0.         0.46979139 0.58028582 0.38408524 0.         0.\n",
      "  0.38408524 0.         0.38408524]]\n"
     ]
    }
   ],
   "source": [
    "# this code optional other way of above code in  the form of matrix\n",
    "from sklearn.feature_extraction.text import TfidfVectorizer\n",
    "documents = [\n",
    "    \"This is the first document.\",\n",
    "    \"This document is the second document.\",\n",
    "    \"And this is the third one.\",\n",
    "    \"Is this the first document?\",\n",
    "]\n",
    "tfidf_vectorizer = TfidfVectorizer()\n",
    "tfidf_matrix = tfidf_vectorizer.fit_transform(documents)\n",
    "print(tfidf_matrix.toarray())\n"
   ]
  },
  {
   "cell_type": "code",
   "execution_count": null,
   "id": "7ca89bbb",
   "metadata": {},
   "outputs": [],
   "source": []
  }
 ],
 "metadata": {
  "kernelspec": {
   "display_name": "Python 3 (ipykernel)",
   "language": "python",
   "name": "python3"
  },
  "language_info": {
   "codemirror_mode": {
    "name": "ipython",
    "version": 3
   },
   "file_extension": ".py",
   "mimetype": "text/x-python",
   "name": "python",
   "nbconvert_exporter": "python",
   "pygments_lexer": "ipython3",
   "version": "3.11.5"
  }
 },
 "nbformat": 4,
 "nbformat_minor": 5
}
